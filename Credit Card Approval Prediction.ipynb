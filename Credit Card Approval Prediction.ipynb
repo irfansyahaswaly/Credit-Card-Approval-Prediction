{
 "cells": [
  {
   "cell_type": "markdown",
   "id": "da1da36f-5e18-4bc6-a460-982826abec28",
   "metadata": {},
   "source": [
    "# **Credit Card Approval Prediction using Machine Learning**"
   ]
  },
  {
   "cell_type": "markdown",
   "id": "cf8e62bf-352f-4bbb-a185-e5b063ab77b6",
   "metadata": {},
   "source": [
    "### *By: Irfansyah Aswaly*"
   ]
  },
  {
   "cell_type": "markdown",
   "id": "b203e437-12b2-4917-997a-7ba5fb251aab",
   "metadata": {},
   "source": [
    "## **1. Introduction**"
   ]
  },
  {
   "cell_type": "markdown",
   "id": "8c3d71f7-2d73-4f4b-851a-804ef85a006a",
   "metadata": {},
   "source": [
    "In this project, we will develop a predictive model to determine whether a credit card applicant is a “good” or “bad” client. Using a dataset that includes credit card applicants' personal information, we will build a machine learning model to predict the likelihood of future credit card default or financing."
   ]
  },
  {
   "cell_type": "markdown",
   "id": "2f466b27-531b-4ab1-a9c7-3a4d68e250cb",
   "metadata": {},
   "source": [
    "## **2. Loading and Preparing Dataset**"
   ]
  },
  {
   "cell_type": "markdown",
   "id": "df66ad96-5dc5-4f0f-9e37-b771a888ef42",
   "metadata": {},
   "source": [
    "This step aims to load and examine the two main datasets that will be used in this project, namely `application_record.csv` and `credit_record.csv`."
   ]
  },
  {
   "cell_type": "code",
   "execution_count": 1,
   "id": "b9a16036-e253-4b9d-a127-ce72bfc8d540",
   "metadata": {},
   "outputs": [
    {
     "data": {
      "text/html": [
       "<div>\n",
       "<style scoped>\n",
       "    .dataframe tbody tr th:only-of-type {\n",
       "        vertical-align: middle;\n",
       "    }\n",
       "\n",
       "    .dataframe tbody tr th {\n",
       "        vertical-align: top;\n",
       "    }\n",
       "\n",
       "    .dataframe thead th {\n",
       "        text-align: right;\n",
       "    }\n",
       "</style>\n",
       "<table border=\"1\" class=\"dataframe\">\n",
       "  <thead>\n",
       "    <tr style=\"text-align: right;\">\n",
       "      <th></th>\n",
       "      <th>ID</th>\n",
       "      <th>CODE_GENDER</th>\n",
       "      <th>FLAG_OWN_CAR</th>\n",
       "      <th>FLAG_OWN_REALTY</th>\n",
       "      <th>CNT_CHILDREN</th>\n",
       "      <th>AMT_INCOME_TOTAL</th>\n",
       "      <th>NAME_INCOME_TYPE</th>\n",
       "      <th>NAME_EDUCATION_TYPE</th>\n",
       "      <th>NAME_FAMILY_STATUS</th>\n",
       "      <th>NAME_HOUSING_TYPE</th>\n",
       "      <th>DAYS_BIRTH</th>\n",
       "      <th>DAYS_EMPLOYED</th>\n",
       "      <th>FLAG_MOBIL</th>\n",
       "      <th>FLAG_WORK_PHONE</th>\n",
       "      <th>FLAG_PHONE</th>\n",
       "      <th>FLAG_EMAIL</th>\n",
       "      <th>OCCUPATION_TYPE</th>\n",
       "      <th>CNT_FAM_MEMBERS</th>\n",
       "    </tr>\n",
       "  </thead>\n",
       "  <tbody>\n",
       "    <tr>\n",
       "      <th>0</th>\n",
       "      <td>5008804</td>\n",
       "      <td>M</td>\n",
       "      <td>Y</td>\n",
       "      <td>Y</td>\n",
       "      <td>0</td>\n",
       "      <td>427500.0</td>\n",
       "      <td>Working</td>\n",
       "      <td>Higher education</td>\n",
       "      <td>Civil marriage</td>\n",
       "      <td>Rented apartment</td>\n",
       "      <td>-12005</td>\n",
       "      <td>-4542</td>\n",
       "      <td>1</td>\n",
       "      <td>1</td>\n",
       "      <td>0</td>\n",
       "      <td>0</td>\n",
       "      <td>NaN</td>\n",
       "      <td>2.0</td>\n",
       "    </tr>\n",
       "    <tr>\n",
       "      <th>1</th>\n",
       "      <td>5008805</td>\n",
       "      <td>M</td>\n",
       "      <td>Y</td>\n",
       "      <td>Y</td>\n",
       "      <td>0</td>\n",
       "      <td>427500.0</td>\n",
       "      <td>Working</td>\n",
       "      <td>Higher education</td>\n",
       "      <td>Civil marriage</td>\n",
       "      <td>Rented apartment</td>\n",
       "      <td>-12005</td>\n",
       "      <td>-4542</td>\n",
       "      <td>1</td>\n",
       "      <td>1</td>\n",
       "      <td>0</td>\n",
       "      <td>0</td>\n",
       "      <td>NaN</td>\n",
       "      <td>2.0</td>\n",
       "    </tr>\n",
       "    <tr>\n",
       "      <th>2</th>\n",
       "      <td>5008806</td>\n",
       "      <td>M</td>\n",
       "      <td>Y</td>\n",
       "      <td>Y</td>\n",
       "      <td>0</td>\n",
       "      <td>112500.0</td>\n",
       "      <td>Working</td>\n",
       "      <td>Secondary / secondary special</td>\n",
       "      <td>Married</td>\n",
       "      <td>House / apartment</td>\n",
       "      <td>-21474</td>\n",
       "      <td>-1134</td>\n",
       "      <td>1</td>\n",
       "      <td>0</td>\n",
       "      <td>0</td>\n",
       "      <td>0</td>\n",
       "      <td>Security staff</td>\n",
       "      <td>2.0</td>\n",
       "    </tr>\n",
       "    <tr>\n",
       "      <th>3</th>\n",
       "      <td>5008808</td>\n",
       "      <td>F</td>\n",
       "      <td>N</td>\n",
       "      <td>Y</td>\n",
       "      <td>0</td>\n",
       "      <td>270000.0</td>\n",
       "      <td>Commercial associate</td>\n",
       "      <td>Secondary / secondary special</td>\n",
       "      <td>Single / not married</td>\n",
       "      <td>House / apartment</td>\n",
       "      <td>-19110</td>\n",
       "      <td>-3051</td>\n",
       "      <td>1</td>\n",
       "      <td>0</td>\n",
       "      <td>1</td>\n",
       "      <td>1</td>\n",
       "      <td>Sales staff</td>\n",
       "      <td>1.0</td>\n",
       "    </tr>\n",
       "    <tr>\n",
       "      <th>4</th>\n",
       "      <td>5008809</td>\n",
       "      <td>F</td>\n",
       "      <td>N</td>\n",
       "      <td>Y</td>\n",
       "      <td>0</td>\n",
       "      <td>270000.0</td>\n",
       "      <td>Commercial associate</td>\n",
       "      <td>Secondary / secondary special</td>\n",
       "      <td>Single / not married</td>\n",
       "      <td>House / apartment</td>\n",
       "      <td>-19110</td>\n",
       "      <td>-3051</td>\n",
       "      <td>1</td>\n",
       "      <td>0</td>\n",
       "      <td>1</td>\n",
       "      <td>1</td>\n",
       "      <td>Sales staff</td>\n",
       "      <td>1.0</td>\n",
       "    </tr>\n",
       "  </tbody>\n",
       "</table>\n",
       "</div>"
      ],
      "text/plain": [
       "        ID CODE_GENDER FLAG_OWN_CAR FLAG_OWN_REALTY  CNT_CHILDREN  \\\n",
       "0  5008804           M            Y               Y             0   \n",
       "1  5008805           M            Y               Y             0   \n",
       "2  5008806           M            Y               Y             0   \n",
       "3  5008808           F            N               Y             0   \n",
       "4  5008809           F            N               Y             0   \n",
       "\n",
       "   AMT_INCOME_TOTAL      NAME_INCOME_TYPE            NAME_EDUCATION_TYPE  \\\n",
       "0          427500.0               Working               Higher education   \n",
       "1          427500.0               Working               Higher education   \n",
       "2          112500.0               Working  Secondary / secondary special   \n",
       "3          270000.0  Commercial associate  Secondary / secondary special   \n",
       "4          270000.0  Commercial associate  Secondary / secondary special   \n",
       "\n",
       "     NAME_FAMILY_STATUS  NAME_HOUSING_TYPE  DAYS_BIRTH  DAYS_EMPLOYED  \\\n",
       "0        Civil marriage   Rented apartment      -12005          -4542   \n",
       "1        Civil marriage   Rented apartment      -12005          -4542   \n",
       "2               Married  House / apartment      -21474          -1134   \n",
       "3  Single / not married  House / apartment      -19110          -3051   \n",
       "4  Single / not married  House / apartment      -19110          -3051   \n",
       "\n",
       "   FLAG_MOBIL  FLAG_WORK_PHONE  FLAG_PHONE  FLAG_EMAIL OCCUPATION_TYPE  \\\n",
       "0           1                1           0           0             NaN   \n",
       "1           1                1           0           0             NaN   \n",
       "2           1                0           0           0  Security staff   \n",
       "3           1                0           1           1     Sales staff   \n",
       "4           1                0           1           1     Sales staff   \n",
       "\n",
       "   CNT_FAM_MEMBERS  \n",
       "0              2.0  \n",
       "1              2.0  \n",
       "2              2.0  \n",
       "3              1.0  \n",
       "4              1.0  "
      ]
     },
     "execution_count": 1,
     "metadata": {},
     "output_type": "execute_result"
    }
   ],
   "source": [
    "# Import Libraries\n",
    "import pandas as pd\n",
    "import numpy as np\n",
    "import matplotlib.pyplot as plt\n",
    "import seaborn as sns\n",
    "\n",
    "# Load dataset\n",
    "application_record = pd.read_csv('application_record.csv')\n",
    "credit_record = pd.read_csv('credit_record.csv')\n",
    "\n",
    "# Displays the first 5 rows of the application_record dataset\n",
    "application_record.head()"
   ]
  },
  {
   "cell_type": "markdown",
   "id": "f9e20480-cab1-40a5-ae59-5d660e92f5c1",
   "metadata": {},
   "source": [
    "## **3. Exploratory Data Analysis (EDA)**"
   ]
  },
  {
   "cell_type": "markdown",
   "id": "97216cfc-0ad4-4c54-a1be-513f1b86df86",
   "metadata": {},
   "source": [
    "In this step, we will explore the dataset to understand its structure and look for missing values. This will also help us understand the data type and whether preprocessing is necessary to clean the data."
   ]
  },
  {
   "cell_type": "code",
   "execution_count": 2,
   "id": "eb039f3e-9851-424a-8a77-b877865006cc",
   "metadata": {},
   "outputs": [
    {
     "name": "stdout",
     "output_type": "stream",
     "text": [
      "<class 'pandas.core.frame.DataFrame'>\n",
      "RangeIndex: 438557 entries, 0 to 438556\n",
      "Data columns (total 18 columns):\n",
      " #   Column               Non-Null Count   Dtype  \n",
      "---  ------               --------------   -----  \n",
      " 0   ID                   438557 non-null  int64  \n",
      " 1   CODE_GENDER          438557 non-null  object \n",
      " 2   FLAG_OWN_CAR         438557 non-null  object \n",
      " 3   FLAG_OWN_REALTY      438557 non-null  object \n",
      " 4   CNT_CHILDREN         438557 non-null  int64  \n",
      " 5   AMT_INCOME_TOTAL     438557 non-null  float64\n",
      " 6   NAME_INCOME_TYPE     438557 non-null  object \n",
      " 7   NAME_EDUCATION_TYPE  438557 non-null  object \n",
      " 8   NAME_FAMILY_STATUS   438557 non-null  object \n",
      " 9   NAME_HOUSING_TYPE    438557 non-null  object \n",
      " 10  DAYS_BIRTH           438557 non-null  int64  \n",
      " 11  DAYS_EMPLOYED        438557 non-null  int64  \n",
      " 12  FLAG_MOBIL           438557 non-null  int64  \n",
      " 13  FLAG_WORK_PHONE      438557 non-null  int64  \n",
      " 14  FLAG_PHONE           438557 non-null  int64  \n",
      " 15  FLAG_EMAIL           438557 non-null  int64  \n",
      " 16  OCCUPATION_TYPE      304354 non-null  object \n",
      " 17  CNT_FAM_MEMBERS      438557 non-null  float64\n",
      "dtypes: float64(2), int64(8), object(8)\n",
      "memory usage: 60.2+ MB\n",
      "<class 'pandas.core.frame.DataFrame'>\n",
      "RangeIndex: 1048575 entries, 0 to 1048574\n",
      "Data columns (total 3 columns):\n",
      " #   Column          Non-Null Count    Dtype \n",
      "---  ------          --------------    ----- \n",
      " 0   ID              1048575 non-null  int64 \n",
      " 1   MONTHS_BALANCE  1048575 non-null  int64 \n",
      " 2   STATUS          1048575 non-null  object\n",
      "dtypes: int64(2), object(1)\n",
      "memory usage: 24.0+ MB\n"
     ]
    },
    {
     "data": {
      "text/plain": [
       "ID                0\n",
       "MONTHS_BALANCE    0\n",
       "STATUS            0\n",
       "dtype: int64"
      ]
     },
     "execution_count": 2,
     "metadata": {},
     "output_type": "execute_result"
    }
   ],
   "source": [
    "# Displays dataset information\n",
    "application_record.info()\n",
    "credit_record.info()\n",
    "\n",
    "# Displays descriptive statistics of the dataset\n",
    "application_record.describe()\n",
    "credit_record.describe()\n",
    "\n",
    "# Displays missing values\n",
    "application_record.isnull().sum()\n",
    "credit_record.isnull().sum()"
   ]
  },
  {
   "cell_type": "markdown",
   "id": "cc26d82f-0277-4bb1-8564-9ba2f71f7722",
   "metadata": {},
   "source": [
    "## **4. Pre-Processing Data**"
   ]
  },
  {
   "cell_type": "markdown",
   "id": "443bed24-00f4-4fb4-bb3c-f8acc5e7fd20",
   "metadata": {},
   "source": [
    "### **4.1 Combining Datasets**"
   ]
  },
  {
   "cell_type": "markdown",
   "id": "6f45581d-9619-4e5c-a29b-4568d8abb444",
   "metadata": {},
   "source": [
    "Datasets will be combined based on the `ID` column to form one complete dataset that will be used in the model."
   ]
  },
  {
   "cell_type": "code",
   "execution_count": 3,
   "id": "4fe2d99b-f93d-45fa-a23f-a2634d8f5af9",
   "metadata": {},
   "outputs": [
    {
     "data": {
      "text/html": [
       "<div>\n",
       "<style scoped>\n",
       "    .dataframe tbody tr th:only-of-type {\n",
       "        vertical-align: middle;\n",
       "    }\n",
       "\n",
       "    .dataframe tbody tr th {\n",
       "        vertical-align: top;\n",
       "    }\n",
       "\n",
       "    .dataframe thead th {\n",
       "        text-align: right;\n",
       "    }\n",
       "</style>\n",
       "<table border=\"1\" class=\"dataframe\">\n",
       "  <thead>\n",
       "    <tr style=\"text-align: right;\">\n",
       "      <th></th>\n",
       "      <th>ID</th>\n",
       "      <th>CODE_GENDER</th>\n",
       "      <th>FLAG_OWN_CAR</th>\n",
       "      <th>FLAG_OWN_REALTY</th>\n",
       "      <th>CNT_CHILDREN</th>\n",
       "      <th>AMT_INCOME_TOTAL</th>\n",
       "      <th>NAME_INCOME_TYPE</th>\n",
       "      <th>NAME_EDUCATION_TYPE</th>\n",
       "      <th>NAME_FAMILY_STATUS</th>\n",
       "      <th>NAME_HOUSING_TYPE</th>\n",
       "      <th>DAYS_BIRTH</th>\n",
       "      <th>DAYS_EMPLOYED</th>\n",
       "      <th>FLAG_MOBIL</th>\n",
       "      <th>FLAG_WORK_PHONE</th>\n",
       "      <th>FLAG_PHONE</th>\n",
       "      <th>FLAG_EMAIL</th>\n",
       "      <th>OCCUPATION_TYPE</th>\n",
       "      <th>CNT_FAM_MEMBERS</th>\n",
       "      <th>MONTHS_BALANCE</th>\n",
       "      <th>STATUS</th>\n",
       "    </tr>\n",
       "  </thead>\n",
       "  <tbody>\n",
       "    <tr>\n",
       "      <th>0</th>\n",
       "      <td>5008804</td>\n",
       "      <td>M</td>\n",
       "      <td>Y</td>\n",
       "      <td>Y</td>\n",
       "      <td>0</td>\n",
       "      <td>427500.0</td>\n",
       "      <td>Working</td>\n",
       "      <td>Higher education</td>\n",
       "      <td>Civil marriage</td>\n",
       "      <td>Rented apartment</td>\n",
       "      <td>-12005</td>\n",
       "      <td>-4542</td>\n",
       "      <td>1</td>\n",
       "      <td>1</td>\n",
       "      <td>0</td>\n",
       "      <td>0</td>\n",
       "      <td>NaN</td>\n",
       "      <td>2.0</td>\n",
       "      <td>0</td>\n",
       "      <td>C</td>\n",
       "    </tr>\n",
       "    <tr>\n",
       "      <th>1</th>\n",
       "      <td>5008804</td>\n",
       "      <td>M</td>\n",
       "      <td>Y</td>\n",
       "      <td>Y</td>\n",
       "      <td>0</td>\n",
       "      <td>427500.0</td>\n",
       "      <td>Working</td>\n",
       "      <td>Higher education</td>\n",
       "      <td>Civil marriage</td>\n",
       "      <td>Rented apartment</td>\n",
       "      <td>-12005</td>\n",
       "      <td>-4542</td>\n",
       "      <td>1</td>\n",
       "      <td>1</td>\n",
       "      <td>0</td>\n",
       "      <td>0</td>\n",
       "      <td>NaN</td>\n",
       "      <td>2.0</td>\n",
       "      <td>-1</td>\n",
       "      <td>C</td>\n",
       "    </tr>\n",
       "    <tr>\n",
       "      <th>2</th>\n",
       "      <td>5008804</td>\n",
       "      <td>M</td>\n",
       "      <td>Y</td>\n",
       "      <td>Y</td>\n",
       "      <td>0</td>\n",
       "      <td>427500.0</td>\n",
       "      <td>Working</td>\n",
       "      <td>Higher education</td>\n",
       "      <td>Civil marriage</td>\n",
       "      <td>Rented apartment</td>\n",
       "      <td>-12005</td>\n",
       "      <td>-4542</td>\n",
       "      <td>1</td>\n",
       "      <td>1</td>\n",
       "      <td>0</td>\n",
       "      <td>0</td>\n",
       "      <td>NaN</td>\n",
       "      <td>2.0</td>\n",
       "      <td>-2</td>\n",
       "      <td>C</td>\n",
       "    </tr>\n",
       "    <tr>\n",
       "      <th>3</th>\n",
       "      <td>5008804</td>\n",
       "      <td>M</td>\n",
       "      <td>Y</td>\n",
       "      <td>Y</td>\n",
       "      <td>0</td>\n",
       "      <td>427500.0</td>\n",
       "      <td>Working</td>\n",
       "      <td>Higher education</td>\n",
       "      <td>Civil marriage</td>\n",
       "      <td>Rented apartment</td>\n",
       "      <td>-12005</td>\n",
       "      <td>-4542</td>\n",
       "      <td>1</td>\n",
       "      <td>1</td>\n",
       "      <td>0</td>\n",
       "      <td>0</td>\n",
       "      <td>NaN</td>\n",
       "      <td>2.0</td>\n",
       "      <td>-3</td>\n",
       "      <td>C</td>\n",
       "    </tr>\n",
       "    <tr>\n",
       "      <th>4</th>\n",
       "      <td>5008804</td>\n",
       "      <td>M</td>\n",
       "      <td>Y</td>\n",
       "      <td>Y</td>\n",
       "      <td>0</td>\n",
       "      <td>427500.0</td>\n",
       "      <td>Working</td>\n",
       "      <td>Higher education</td>\n",
       "      <td>Civil marriage</td>\n",
       "      <td>Rented apartment</td>\n",
       "      <td>-12005</td>\n",
       "      <td>-4542</td>\n",
       "      <td>1</td>\n",
       "      <td>1</td>\n",
       "      <td>0</td>\n",
       "      <td>0</td>\n",
       "      <td>NaN</td>\n",
       "      <td>2.0</td>\n",
       "      <td>-4</td>\n",
       "      <td>C</td>\n",
       "    </tr>\n",
       "  </tbody>\n",
       "</table>\n",
       "</div>"
      ],
      "text/plain": [
       "        ID CODE_GENDER FLAG_OWN_CAR FLAG_OWN_REALTY  CNT_CHILDREN  \\\n",
       "0  5008804           M            Y               Y             0   \n",
       "1  5008804           M            Y               Y             0   \n",
       "2  5008804           M            Y               Y             0   \n",
       "3  5008804           M            Y               Y             0   \n",
       "4  5008804           M            Y               Y             0   \n",
       "\n",
       "   AMT_INCOME_TOTAL NAME_INCOME_TYPE NAME_EDUCATION_TYPE NAME_FAMILY_STATUS  \\\n",
       "0          427500.0          Working    Higher education     Civil marriage   \n",
       "1          427500.0          Working    Higher education     Civil marriage   \n",
       "2          427500.0          Working    Higher education     Civil marriage   \n",
       "3          427500.0          Working    Higher education     Civil marriage   \n",
       "4          427500.0          Working    Higher education     Civil marriage   \n",
       "\n",
       "  NAME_HOUSING_TYPE  DAYS_BIRTH  DAYS_EMPLOYED  FLAG_MOBIL  FLAG_WORK_PHONE  \\\n",
       "0  Rented apartment      -12005          -4542           1                1   \n",
       "1  Rented apartment      -12005          -4542           1                1   \n",
       "2  Rented apartment      -12005          -4542           1                1   \n",
       "3  Rented apartment      -12005          -4542           1                1   \n",
       "4  Rented apartment      -12005          -4542           1                1   \n",
       "\n",
       "   FLAG_PHONE  FLAG_EMAIL OCCUPATION_TYPE  CNT_FAM_MEMBERS  MONTHS_BALANCE  \\\n",
       "0           0           0             NaN              2.0               0   \n",
       "1           0           0             NaN              2.0              -1   \n",
       "2           0           0             NaN              2.0              -2   \n",
       "3           0           0             NaN              2.0              -3   \n",
       "4           0           0             NaN              2.0              -4   \n",
       "\n",
       "  STATUS  \n",
       "0      C  \n",
       "1      C  \n",
       "2      C  \n",
       "3      C  \n",
       "4      C  "
      ]
     },
     "execution_count": 3,
     "metadata": {},
     "output_type": "execute_result"
    }
   ],
   "source": [
    "# Merge both datasets based on 'ID'\n",
    "data = pd.merge(application_record, credit_record, on='ID', how='inner')\n",
    "data.head()"
   ]
  },
  {
   "cell_type": "markdown",
   "id": "0d3954b0-a769-4e5f-993e-cbe552bdb3e0",
   "metadata": {},
   "source": [
    "### **4.2 Fill in Missing Values**"
   ]
  },
  {
   "cell_type": "markdown",
   "id": "0e8241ab-550c-4bc0-a4a2-0d696147826e",
   "metadata": {},
   "source": [
    "Missing data needs to be filled in with the most frequently occurring values, such as mode, for multiple columns. After that, we will ensure there are no more missing values."
   ]
  },
  {
   "cell_type": "code",
   "execution_count": 6,
   "id": "5e281bab-8e0e-413a-b86e-1f7416c48455",
   "metadata": {},
   "outputs": [
    {
     "name": "stdout",
     "output_type": "stream",
     "text": [
      "ID                     0\n",
      "CODE_GENDER            0\n",
      "FLAG_OWN_CAR           0\n",
      "FLAG_OWN_REALTY        0\n",
      "CNT_CHILDREN           0\n",
      "AMT_INCOME_TOTAL       0\n",
      "NAME_INCOME_TYPE       0\n",
      "NAME_EDUCATION_TYPE    0\n",
      "NAME_FAMILY_STATUS     0\n",
      "NAME_HOUSING_TYPE      0\n",
      "DAYS_BIRTH             0\n",
      "DAYS_EMPLOYED          0\n",
      "FLAG_MOBIL             0\n",
      "FLAG_WORK_PHONE        0\n",
      "FLAG_PHONE             0\n",
      "FLAG_EMAIL             0\n",
      "OCCUPATION_TYPE        0\n",
      "CNT_FAM_MEMBERS        0\n",
      "MONTHS_BALANCE         0\n",
      "STATUS                 0\n",
      "dtype: int64\n"
     ]
    }
   ],
   "source": [
    "# Fill in missing values ​​(NaN) in columns using the mode value\n",
    "data['OCCUPATION_TYPE'] = data['OCCUPATION_TYPE'].fillna(data['OCCUPATION_TYPE'].mode()[0])\n",
    "data['NAME_INCOME_TYPE'] = data['NAME_INCOME_TYPE'].fillna(data['NAME_INCOME_TYPE'].mode()[0])\n",
    "data['NAME_EDUCATION_TYPE'] = data['NAME_EDUCATION_TYPE'].fillna(data['NAME_EDUCATION_TYPE'].mode()[0])\n",
    "\n",
    "# Checks if any values ​​are missing after filling\n",
    "missing_values_after = data.isnull().sum()\n",
    "\n",
    "# Displays the results of filling in missing values\n",
    "print(missing_values_after)"
   ]
  },
  {
   "cell_type": "markdown",
   "id": "d7a71615-5fa2-4fee-9c52-2e1d71dfdf0b",
   "metadata": {},
   "source": [
    "### **4.3 Encoding Categorical Variables**"
   ]
  },
  {
   "cell_type": "markdown",
   "id": "dc243224-8cf8-4f1b-8c16-4d922cb381aa",
   "metadata": {},
   "source": [
    "We will convert categorical variables into numerical form using encoding techniques (one-hot encoding), which allows the model to understand the categories."
   ]
  },
  {
   "cell_type": "code",
   "execution_count": 7,
   "id": "8102df73-3681-419d-8d48-66cb683c6bd4",
   "metadata": {},
   "outputs": [
    {
     "data": {
      "text/html": [
       "<div>\n",
       "<style scoped>\n",
       "    .dataframe tbody tr th:only-of-type {\n",
       "        vertical-align: middle;\n",
       "    }\n",
       "\n",
       "    .dataframe tbody tr th {\n",
       "        vertical-align: top;\n",
       "    }\n",
       "\n",
       "    .dataframe thead th {\n",
       "        text-align: right;\n",
       "    }\n",
       "</style>\n",
       "<table border=\"1\" class=\"dataframe\">\n",
       "  <thead>\n",
       "    <tr style=\"text-align: right;\">\n",
       "      <th></th>\n",
       "      <th>ID</th>\n",
       "      <th>CNT_CHILDREN</th>\n",
       "      <th>AMT_INCOME_TOTAL</th>\n",
       "      <th>DAYS_BIRTH</th>\n",
       "      <th>DAYS_EMPLOYED</th>\n",
       "      <th>FLAG_MOBIL</th>\n",
       "      <th>FLAG_WORK_PHONE</th>\n",
       "      <th>FLAG_PHONE</th>\n",
       "      <th>FLAG_EMAIL</th>\n",
       "      <th>CNT_FAM_MEMBERS</th>\n",
       "      <th>...</th>\n",
       "      <th>OCCUPATION_TYPE_Secretaries</th>\n",
       "      <th>OCCUPATION_TYPE_Security staff</th>\n",
       "      <th>OCCUPATION_TYPE_Waiters/barmen staff</th>\n",
       "      <th>STATUS_1</th>\n",
       "      <th>STATUS_2</th>\n",
       "      <th>STATUS_3</th>\n",
       "      <th>STATUS_4</th>\n",
       "      <th>STATUS_5</th>\n",
       "      <th>STATUS_C</th>\n",
       "      <th>STATUS_X</th>\n",
       "    </tr>\n",
       "  </thead>\n",
       "  <tbody>\n",
       "    <tr>\n",
       "      <th>0</th>\n",
       "      <td>5008804</td>\n",
       "      <td>0</td>\n",
       "      <td>427500.0</td>\n",
       "      <td>-12005</td>\n",
       "      <td>-4542</td>\n",
       "      <td>1</td>\n",
       "      <td>1</td>\n",
       "      <td>0</td>\n",
       "      <td>0</td>\n",
       "      <td>2.0</td>\n",
       "      <td>...</td>\n",
       "      <td>False</td>\n",
       "      <td>False</td>\n",
       "      <td>False</td>\n",
       "      <td>False</td>\n",
       "      <td>False</td>\n",
       "      <td>False</td>\n",
       "      <td>False</td>\n",
       "      <td>False</td>\n",
       "      <td>True</td>\n",
       "      <td>False</td>\n",
       "    </tr>\n",
       "    <tr>\n",
       "      <th>1</th>\n",
       "      <td>5008804</td>\n",
       "      <td>0</td>\n",
       "      <td>427500.0</td>\n",
       "      <td>-12005</td>\n",
       "      <td>-4542</td>\n",
       "      <td>1</td>\n",
       "      <td>1</td>\n",
       "      <td>0</td>\n",
       "      <td>0</td>\n",
       "      <td>2.0</td>\n",
       "      <td>...</td>\n",
       "      <td>False</td>\n",
       "      <td>False</td>\n",
       "      <td>False</td>\n",
       "      <td>False</td>\n",
       "      <td>False</td>\n",
       "      <td>False</td>\n",
       "      <td>False</td>\n",
       "      <td>False</td>\n",
       "      <td>True</td>\n",
       "      <td>False</td>\n",
       "    </tr>\n",
       "    <tr>\n",
       "      <th>2</th>\n",
       "      <td>5008804</td>\n",
       "      <td>0</td>\n",
       "      <td>427500.0</td>\n",
       "      <td>-12005</td>\n",
       "      <td>-4542</td>\n",
       "      <td>1</td>\n",
       "      <td>1</td>\n",
       "      <td>0</td>\n",
       "      <td>0</td>\n",
       "      <td>2.0</td>\n",
       "      <td>...</td>\n",
       "      <td>False</td>\n",
       "      <td>False</td>\n",
       "      <td>False</td>\n",
       "      <td>False</td>\n",
       "      <td>False</td>\n",
       "      <td>False</td>\n",
       "      <td>False</td>\n",
       "      <td>False</td>\n",
       "      <td>True</td>\n",
       "      <td>False</td>\n",
       "    </tr>\n",
       "    <tr>\n",
       "      <th>3</th>\n",
       "      <td>5008804</td>\n",
       "      <td>0</td>\n",
       "      <td>427500.0</td>\n",
       "      <td>-12005</td>\n",
       "      <td>-4542</td>\n",
       "      <td>1</td>\n",
       "      <td>1</td>\n",
       "      <td>0</td>\n",
       "      <td>0</td>\n",
       "      <td>2.0</td>\n",
       "      <td>...</td>\n",
       "      <td>False</td>\n",
       "      <td>False</td>\n",
       "      <td>False</td>\n",
       "      <td>False</td>\n",
       "      <td>False</td>\n",
       "      <td>False</td>\n",
       "      <td>False</td>\n",
       "      <td>False</td>\n",
       "      <td>True</td>\n",
       "      <td>False</td>\n",
       "    </tr>\n",
       "    <tr>\n",
       "      <th>4</th>\n",
       "      <td>5008804</td>\n",
       "      <td>0</td>\n",
       "      <td>427500.0</td>\n",
       "      <td>-12005</td>\n",
       "      <td>-4542</td>\n",
       "      <td>1</td>\n",
       "      <td>1</td>\n",
       "      <td>0</td>\n",
       "      <td>0</td>\n",
       "      <td>2.0</td>\n",
       "      <td>...</td>\n",
       "      <td>False</td>\n",
       "      <td>False</td>\n",
       "      <td>False</td>\n",
       "      <td>False</td>\n",
       "      <td>False</td>\n",
       "      <td>False</td>\n",
       "      <td>False</td>\n",
       "      <td>False</td>\n",
       "      <td>True</td>\n",
       "      <td>False</td>\n",
       "    </tr>\n",
       "  </tbody>\n",
       "</table>\n",
       "<p>5 rows × 55 columns</p>\n",
       "</div>"
      ],
      "text/plain": [
       "        ID  CNT_CHILDREN  AMT_INCOME_TOTAL  DAYS_BIRTH  DAYS_EMPLOYED  \\\n",
       "0  5008804             0          427500.0      -12005          -4542   \n",
       "1  5008804             0          427500.0      -12005          -4542   \n",
       "2  5008804             0          427500.0      -12005          -4542   \n",
       "3  5008804             0          427500.0      -12005          -4542   \n",
       "4  5008804             0          427500.0      -12005          -4542   \n",
       "\n",
       "   FLAG_MOBIL  FLAG_WORK_PHONE  FLAG_PHONE  FLAG_EMAIL  CNT_FAM_MEMBERS  ...  \\\n",
       "0           1                1           0           0              2.0  ...   \n",
       "1           1                1           0           0              2.0  ...   \n",
       "2           1                1           0           0              2.0  ...   \n",
       "3           1                1           0           0              2.0  ...   \n",
       "4           1                1           0           0              2.0  ...   \n",
       "\n",
       "   OCCUPATION_TYPE_Secretaries  OCCUPATION_TYPE_Security staff  \\\n",
       "0                        False                           False   \n",
       "1                        False                           False   \n",
       "2                        False                           False   \n",
       "3                        False                           False   \n",
       "4                        False                           False   \n",
       "\n",
       "   OCCUPATION_TYPE_Waiters/barmen staff  STATUS_1  STATUS_2  STATUS_3  \\\n",
       "0                                 False     False     False     False   \n",
       "1                                 False     False     False     False   \n",
       "2                                 False     False     False     False   \n",
       "3                                 False     False     False     False   \n",
       "4                                 False     False     False     False   \n",
       "\n",
       "   STATUS_4  STATUS_5  STATUS_C  STATUS_X  \n",
       "0     False     False      True     False  \n",
       "1     False     False      True     False  \n",
       "2     False     False      True     False  \n",
       "3     False     False      True     False  \n",
       "4     False     False      True     False  \n",
       "\n",
       "[5 rows x 55 columns]"
      ]
     },
     "execution_count": 7,
     "metadata": {},
     "output_type": "execute_result"
    }
   ],
   "source": [
    "# Encoding for categorical variables\n",
    "data_encoded = pd.get_dummies(data, drop_first=True)\n",
    "data_encoded.head()"
   ]
  },
  {
   "cell_type": "markdown",
   "id": "b31df630-c104-4a56-99aa-ad18c98edc58",
   "metadata": {},
   "source": [
    "## **5. Feature Engineering**"
   ]
  },
  {
   "cell_type": "markdown",
   "id": "9a772ff2-a8f4-475b-bfa5-42b42a14f0cb",
   "metadata": {},
   "source": [
    "Feature engineering is performed to create a target column that states whether a credit card applicant is a \"good\" or \"bad\" client. Here we use the final status to determine whether someone is \"bad\" or not."
   ]
  },
  {
   "cell_type": "code",
   "execution_count": 8,
   "id": "91929a22-1549-441c-9f6e-f3ea60d273e0",
   "metadata": {},
   "outputs": [],
   "source": [
    "# Create labels for 'good' or 'bad' clients based on certain rules (for example, if the last month's STATUS is 1 or 2, then 'bad')\n",
    "data['TARGET'] = data['STATUS'].apply(lambda x: 1 if x in ['1', '2'] else 0)"
   ]
  },
  {
   "cell_type": "markdown",
   "id": "71696fa6-eb88-44c8-a09a-e7244b5b09cb",
   "metadata": {},
   "source": [
    "## **6. Splitting Data into Training and Testing Sets**"
   ]
  },
  {
   "cell_type": "markdown",
   "id": "c52444df-bc59-4fde-9a9c-91638a10a7fc",
   "metadata": {},
   "source": [
    "Data will be divided into training data (training set) and test data (testing set) to build and test the model. 80% of the data is used for training, and the remaining 20% ​​for testing."
   ]
  },
  {
   "cell_type": "code",
   "execution_count": 21,
   "id": "724bca3f-d825-497f-8264-69dff65ae281",
   "metadata": {},
   "outputs": [],
   "source": [
    "# Combine columns STATUS_1 through STATUS_X into one target column\n",
    "data_encoded['TARGET'] = data_encoded[['STATUS_1', 'STATUS_2', 'STATUS_3', 'STATUS_4', 'STATUS_5', 'STATUS_C', 'STATUS_X']].any(axis=1)\n",
    "\n",
    "# Separate features and targets\n",
    "X = data_encoded.drop(['ID', 'TARGET'], axis=1)\n",
    "y = data_encoded['TARGET']\n",
    "\n",
    "# Divide data into training and testing sets (80% for training and 20% for testing)\n",
    "X_train, X_test, y_train, y_test = train_test_split(X, y, test_size=0.2, random_state=42)"
   ]
  },
  {
   "cell_type": "markdown",
   "id": "36fcb5c0-dcbc-4202-94a2-a991982cd157",
   "metadata": {},
   "source": [
    "## **7. Building Machine Learning Models**"
   ]
  },
  {
   "cell_type": "markdown",
   "id": "33f9ad68-90be-40a3-9ad9-93ff5c330f2e",
   "metadata": {},
   "source": [
    "### **7.1 Logistic Regression**"
   ]
  },
  {
   "cell_type": "markdown",
   "id": "d4b2c218-b43e-4a5a-8194-89c5eca2dc1b",
   "metadata": {},
   "source": [
    "The first model we will try is **Logistic Regression**, which is very suitable for binary classification problems. We will train the model using training data and evaluate the prediction results with test data."
   ]
  },
  {
   "cell_type": "code",
   "execution_count": 23,
   "id": "65dd2fff-805a-4493-95c4-4643c63f5878",
   "metadata": {},
   "outputs": [
    {
     "name": "stdout",
     "output_type": "stream",
     "text": [
      "Accuracy: 1.0\n",
      "Classification Report:\n",
      "              precision    recall  f1-score   support\n",
      "\n",
      "       False       1.00      1.00      1.00     58003\n",
      "        True       1.00      1.00      1.00     97540\n",
      "\n",
      "    accuracy                           1.00    155543\n",
      "   macro avg       1.00      1.00      1.00    155543\n",
      "weighted avg       1.00      1.00      1.00    155543\n",
      "\n",
      "Confusion Matrix:\n",
      "[[58003     0]\n",
      " [    0 97540]]\n"
     ]
    }
   ],
   "source": [
    "from sklearn.linear_model import LogisticRegression\n",
    "from sklearn.preprocessing import StandardScaler\n",
    "from sklearn.metrics import accuracy_score, classification_report, confusion_matrix\n",
    "\n",
    "# Standardization of features\n",
    "scaler = StandardScaler()\n",
    "X_train_scaled = scaler.fit_transform(X_train)\n",
    "X_test_scaled = scaler.transform(X_test)\n",
    "\n",
    "# Create a Logistic Regression model with 'saga' solver and higher max_iter\n",
    "model = LogisticRegression(solver='saga', max_iter=1000)\n",
    "model.fit(X_train_scaled, y_train)\n",
    "\n",
    "# Prediction on test data\n",
    "y_pred = model.predict(X_test_scaled)\n",
    "\n",
    "# Evaluation of results\n",
    "accuracy = accuracy_score(y_test, y_pred)\n",
    "print(f\"Accuracy: {accuracy}\")\n",
    "\n",
    "# Classification report\n",
    "print(\"Classification Report:\")\n",
    "print(classification_report(y_test, y_pred))\n",
    "\n",
    "# Confusion matrix\n",
    "print(\"Confusion Matrix:\")\n",
    "print(confusion_matrix(y_test, y_pred))"
   ]
  },
  {
   "cell_type": "markdown",
   "id": "d0229f4a-ab86-4e0d-a352-a7e4404b2a24",
   "metadata": {},
   "source": [
    "### **7.2 Random Forest**"
   ]
  },
  {
   "cell_type": "markdown",
   "id": "42959b8f-dfbd-44b6-a328-aa0a85de24b0",
   "metadata": {},
   "source": [
    "Apart from Logistic Regression, we will also try the **Random Forest** model, which is often used to handle classification problems with data that is imbalanced and has many features."
   ]
  },
  {
   "cell_type": "code",
   "execution_count": 24,
   "id": "f9bdab0a-be08-4cff-a8ea-7bc31d0bc8d8",
   "metadata": {},
   "outputs": [
    {
     "name": "stdout",
     "output_type": "stream",
     "text": [
      "Accuracy: 1.0\n",
      "Classification Report:\n",
      "               precision    recall  f1-score   support\n",
      "\n",
      "       False       1.00      1.00      1.00     58003\n",
      "        True       1.00      1.00      1.00     97540\n",
      "\n",
      "    accuracy                           1.00    155543\n",
      "   macro avg       1.00      1.00      1.00    155543\n",
      "weighted avg       1.00      1.00      1.00    155543\n",
      "\n",
      "Confusion Matrix:\n",
      " [[58003     0]\n",
      " [    0 97540]]\n"
     ]
    }
   ],
   "source": [
    "from sklearn.ensemble import RandomForestClassifier\n",
    "\n",
    "# Create and train a Random Forest model\n",
    "rf = RandomForestClassifier(n_estimators=100, random_state=42)\n",
    "rf.fit(X_train, y_train)\n",
    "\n",
    "# Make predictions\n",
    "y_pred_rf = rf.predict(X_test)\n",
    "\n",
    "# Model evaluation\n",
    "print(\"Accuracy:\", accuracy_score(y_test, y_pred_rf))\n",
    "print(\"Classification Report:\\n\", classification_report(y_test, y_pred_rf))\n",
    "print(\"Confusion Matrix:\\n\", confusion_matrix(y_test, y_pred_rf))"
   ]
  },
  {
   "cell_type": "markdown",
   "id": "c7db7f62-9f29-4497-ac4e-78771e4993de",
   "metadata": {},
   "source": [
    "## **8. Model Evaluation and Comparison**"
   ]
  },
  {
   "cell_type": "markdown",
   "id": "89584729-2822-490d-8e7e-c5167da68316",
   "metadata": {},
   "source": [
    "In this section, we will compare the performance of Logistic Regression and Random Forest models using **accuracy** as the evaluation metric. This way, we can determine which model is better at prediction."
   ]
  },
  {
   "cell_type": "code",
   "execution_count": 44,
   "id": "d11e99ad-6b3d-49b5-ad22-e2acf4604c2a",
   "metadata": {},
   "outputs": [
    {
     "data": {
      "text/html": [
       "<div>\n",
       "<style scoped>\n",
       "    .dataframe tbody tr th:only-of-type {\n",
       "        vertical-align: middle;\n",
       "    }\n",
       "\n",
       "    .dataframe tbody tr th {\n",
       "        vertical-align: top;\n",
       "    }\n",
       "\n",
       "    .dataframe thead th {\n",
       "        text-align: right;\n",
       "    }\n",
       "</style>\n",
       "<table border=\"1\" class=\"dataframe\">\n",
       "  <thead>\n",
       "    <tr style=\"text-align: right;\">\n",
       "      <th></th>\n",
       "      <th>Model</th>\n",
       "      <th>Accuracy</th>\n",
       "    </tr>\n",
       "  </thead>\n",
       "  <tbody>\n",
       "    <tr>\n",
       "      <th>0</th>\n",
       "      <td>Logistic Regression</td>\n",
       "      <td>1.0</td>\n",
       "    </tr>\n",
       "    <tr>\n",
       "      <th>1</th>\n",
       "      <td>Random Forest</td>\n",
       "      <td>1.0</td>\n",
       "    </tr>\n",
       "  </tbody>\n",
       "</table>\n",
       "</div>"
      ],
      "text/plain": [
       "                 Model  Accuracy\n",
       "0  Logistic Regression       1.0\n",
       "1        Random Forest       1.0"
      ]
     },
     "execution_count": 44,
     "metadata": {},
     "output_type": "execute_result"
    }
   ],
   "source": [
    "# Comparison between Logistic Regression and Random Forest models\n",
    "models = ['Logistic Regression', 'Random Forest']\n",
    "accuracies = [accuracy_score(y_test, y_pred), accuracy_score(y_test, y_pred_rf)]\n",
    "\n",
    "# Create a DataFrame for comparison\n",
    "model_comparison = pd.DataFrame({'Model': models, 'Accuracy': accuracies})\n",
    "model_comparison"
   ]
  },
  {
   "cell_type": "markdown",
   "id": "c3303c21-57ba-45ff-99f9-2cabf47143f1",
   "metadata": {},
   "source": [
    "## **9. Model Visualization**"
   ]
  },
  {
   "cell_type": "markdown",
   "id": "78a7011f-0a63-400c-9725-2853d42f22e4",
   "metadata": {},
   "source": [
    "We will create several visualizations that provide a deeper look at the model's performance. Some of the visualizations used are Confusion Matrix, ROC Curve, Precision-Recall Curve, and Learning Curve."
   ]
  },
  {
   "cell_type": "markdown",
   "id": "f02f0083-6554-4657-a949-7efca0b516ad",
   "metadata": {},
   "source": [
    "### **9.1 Confusion Matrix Heatmap**"
   ]
  },
  {
   "cell_type": "markdown",
   "id": "02330f7c-1e5d-42c5-8860-b7087fd825d6",
   "metadata": {},
   "source": [
    "Confusion Matrix provides a clear picture of how the model performs classification. In this plot, we can see the number of correct predictions (True Positive and True Negative) as well as incorrect predictions (False Positive and False Negative). Confusion Matrix allows us to evaluate model accuracy in more detail."
   ]
  },
  {
   "cell_type": "code",
   "execution_count": 47,
   "id": "948ac268-fcfa-4e01-b9c4-fc9e8991f9ff",
   "metadata": {},
   "outputs": [
    {
     "data": {
      "image/png": "[encoded data removed]",
      "text/plain": [
       "<Figure size 800x600 with 2 Axes>"
      ]
     },
     "metadata": {},
     "output_type": "display_data"
    },
    {
     "data": {
      "image/png": "[encoded data removed]",
      "text/plain": [
       "<Figure size 800x600 with 2 Axes>"
      ]
     },
     "metadata": {},
     "output_type": "display_data"
    }
   ],
   "source": [
    "import seaborn as sns\n",
    "import matplotlib.pyplot as plt\n",
    "from sklearn.metrics import confusion_matrix\n",
    "\n",
    "# Confusion Matrix for Logistic Regression\n",
    "cm_logreg = confusion_matrix(y_test, y_pred_logreg)\n",
    "\n",
    "plt.figure(figsize=(8, 6))\n",
    "sns.heatmap(cm_logreg, annot=True, fmt='g', cmap='Blues', xticklabels=['Bad', 'Good'], yticklabels=['Bad', 'Good'])\n",
    "plt.title('Confusion Matrix - Logistic Regression')\n",
    "plt.xlabel('Predicted')\n",
    "plt.ylabel('Actual')\n",
    "plt.show()\n",
    "\n",
    "# Confusion Matrix for Random Forest\n",
    "cm_rf = confusion_matrix(y_test, y_pred_rf)\n",
    "\n",
    "plt.figure(figsize=(8, 6))\n",
    "sns.heatmap(cm_rf, annot=True, fmt='g', cmap='Greens', xticklabels=['Bad', 'Good'], yticklabels=['Bad', 'Good'])\n",
    "plt.title('Confusion Matrix - Random Forest')\n",
    "plt.xlabel('Predicted')\n",
    "plt.ylabel('Actual')\n",
    "plt.show()"
   ]
  },
  {
   "cell_type": "markdown",
   "id": "954de4cc-42cb-43de-85b6-4dc700aa8e25",
   "metadata": {},
   "source": [
    "### **9.2 ROC Curve (Receiver Operating Characteristic Curve)**"
   ]
  },
  {
   "cell_type": "markdown",
   "id": "65fafaeb-0d18-484c-b7ae-a4512d27007e",
   "metadata": {},
   "source": [
    "The ROC Curve describes the model's ability to differentiate between different classes (for example, 'good' and 'bad'). ROC Curve shows **True Positive Rate (TPR)** vs **False Positive Rate (FPR)**, and AUC (Area Under the Curve) indicates how well the model is at differentiating between the classes"
   ]
  },
  {
   "cell_type": "code",
   "execution_count": 49,
   "id": "7066c3a8-211d-4893-b70c-0f14c36cdb57",
   "metadata": {},
   "outputs": [
    {
     "data": {
      "image/png": "[encoded data removed]",
      "text/plain": [
       "<Figure size 1000x600 with 1 Axes>"
      ]
     },
     "metadata": {},
     "output_type": "display_data"
    }
   ],
   "source": [
    "from sklearn.metrics import roc_curve, auc\n",
    "\n",
    "# Make sure you use the same data in training and prediction\n",
    "# For example, if you use X_train in training, make sure to also use X_test accordingly\n",
    "\n",
    "# Perform probability predictions\n",
    "y_prob_logreg = logreg.predict_proba(X_test)[:, 1] # Only takes probability for class 'Good' (1)\n",
    "y_prob_rf = rf.predict_proba(X_test)[:, 1]\n",
    "\n",
    "# Calculate the ROC curve for Logistic Regression\n",
    "fpr_logreg, tpr_logreg, _ = roc_curve(y_test, y_prob_logreg)\n",
    "roc_auc_logreg = auc(fpr_logreg, tpr_logreg)\n",
    "\n",
    "# Calculate the ROC curve for Random Forest\n",
    "fpr_rf, tpr_rf, _ = roc_curve(y_test, y_prob_rf)\n",
    "roc_auc_rf = auc(fpr_rf, tpr_rf)\n",
    "\n",
    "# ROC curve visualization\n",
    "plt.figure(figsize=(10, 6))\n",
    "plt.plot(fpr_logreg, tpr_logreg, color='blue', lw=2, label=f'Logistic Regression (AUC = {roc_auc_logreg:.2f})')\n",
    "plt.plot(fpr_rf, tpr_rf, color='red', lw=2, label=f'Random Forest (AUC = {roc_auc_rf:.2f})')\n",
    "\n",
    "plt.plot([0, 1], [0, 1], color='gray', linestyle='--')  # Line diagonal (no skill)\n",
    "plt.xlabel('False Positive Rate')\n",
    "plt.ylabel('True Positive Rate')\n",
    "plt.title('Receiver Operating Characteristic (ROC) Curve')\n",
    "plt.legend(loc='lower right')\n",
    "plt.show()"
   ]
  },
  {
   "cell_type": "markdown",
   "id": "1ab62f0e-d464-4a4b-8ee1-32d37559c60c",
   "metadata": {},
   "source": [
    "## **10. Conclusion & Recommendations**"
   ]
  },
  {
   "cell_type": "markdown",
   "id": "0496716a-84c4-4e2a-827a-003e82a7aad5",
   "metadata": {},
   "source": [
    "### Conclusion\n",
    "\n",
    "In this project, we aimed to build a predictive model to classify credit card applicants as either \"good\" or \"bad\" clients, based on their personal information. We used two popular machine learning models: **Logistic Regression** and **Random Forest**, both of which were evaluated on the dataset.\n",
    "\n",
    "1. **Model Evaluation**:\n",
    "   - **Logistic Regression** and **Random Forest** achieved **1.0 accuracy** on the training data, indicating that both models were able to correctly classify most applicants. However, given the imbalanced nature of the dataset, the models performed better when evaluated with additional metrics like the **ROC Curve**.\n",
    "   \n",
    "2. **Confusion Matrix Heatmap**:\n",
    "   - The **Confusion Matrix Heatmap** for both models showed high numbers of correct predictions, with very few false positives and false negatives. This indicates that the models performed exceptionally well in distinguishing between the 'good' and 'bad' clients, though the class imbalance problem could have influenced this result.\n",
    "   \n",
    "3. **ROC Curve**:\n",
    "   - The **ROC Curve** for both Logistic Regression and Random Forest revealed excellent performance with a near-perfect area under the curve (AUC). This suggests that both models were able to accurately predict the likelihood of an applicant being a 'good' or 'bad' client, regardless of the imbalance in the dataset.\n",
    "   \n",
    "4. **Challenges and Insights**:\n",
    "   - The dataset presented a **class imbalance** challenge, which could have impacted the model's ability to learn. Despite this, both Logistic Regression and Random Forest showed strong performance, as indicated by the **ROC Curve** and **Confusion Matrix Heatmap**.\n",
    "   - **Feature engineering** and data preprocessing steps such as handling missing values and encoding categorical variables were essential to improve model performance.\n",
    "\n",
    "### Recommendations:\n",
    "   - **Hyperparameter tuning** could further improve the models' performance, such as adjusting the **regularization strength** for Logistic Regression or optimizing the **tree depth** for Random Forest.\n",
    "   - Techniques like **SMOTE** (Synthetic Minority Over-sampling Technique) could also help better address the class imbalance.\n",
    "\n",
    "Overall, both models performed remarkably well. The **ROC Curve** and **Confusion Matrix Heatmap** showed their effectiveness in this task, with Random Forest slightly outperforming Logistic Regression. However, the final choice of model would depend on factors like interpretability, business needs, and model complexity."
   ]
  }
 ],
 "metadata": {
  "kernelspec": {
   "display_name": "Python 3 (ipykernel)",
   "language": "python",
   "name": "python3"
  },
  "language_info": {
   "codemirror_mode": {
    "name": "ipython",
    "version": 3
   },
   "file_extension": ".py",
   "mimetype": "text/x-python",
   "name": "python",
   "nbconvert_exporter": "python",
   "pygments_lexer": "ipython3",
   "version": "3.12.7"
  }
 },
 "nbformat": 4,
 "nbformat_minor": 5
}
